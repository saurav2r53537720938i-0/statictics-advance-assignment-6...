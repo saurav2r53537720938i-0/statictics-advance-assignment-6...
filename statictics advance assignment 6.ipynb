{
 "cells": [
  {
   "cell_type": "markdown",
   "id": "15c99e98-1308-4843-99f1-e7340f0a0515",
   "metadata": {},
   "source": [
    "In statictics,the assumption of homogeneity of variance(homoscedasticity) is often required for conducting analysis  of variance(ANOVA).This mean that the variance of the groups being compared should be approximately equal.when this  assumption is violated,it can impact the validity of the ANOVA result."
   ]
  },
  {
   "cell_type": "markdown",
   "id": "0e08a566-d514-441f-b497-ad0cee493bde",
   "metadata": {},
   "source": [
    "The three main types of ANOVA are:\n",
    "1. One-way ANOVA:This is used when you have one independent variable(factor) with three or more levels/groups,and you want to compare the means of a single dependent variables.\n",
    "2. Two-way ANOVA:This is used when you have two independent variables(factor) and one dependent variable.it allows you to examine the main effect of each independent.\n",
    "3. Repeated measure ANOVA:This is  used when you have a within subject design meaning that each participant is measured multiples times under difrrent condtions.it often used in longitudnial studies or experiment."
   ]
  },
  {
   "cell_type": "markdown",
   "id": "a46ed7eb-1e05-4b73-9430-4f19ae039a6a",
   "metadata": {},
   "source": [
    "Partitioning of variance in ANOVA refers to the process of breaking down the total variance in the data into diffrents components that can be attribute to various sources these sources typically include variablity between groups.\n",
    "1. Asset the relative importance diffrent factors or sources of variation in influencing the dependent variable.by decmosing the total variance researchers can be determined how much of the variablity in the data is due to difrrences between groups and how much is due to random variablity within groups.\n",
    "2. test the staticscal signficance\n",
    "3. Interpret the result of ANOVA"
   ]
  },
  {
   "cell_type": "code",
   "execution_count": 1,
   "id": "5a5f6a66-52ce-426c-af72-8fa78f93e2ce",
   "metadata": {},
   "outputs": [
    {
     "ename": "SyntaxError",
     "evalue": "expression cannot contain assignment, perhaps you meant \"==\"? (506244657.py, line 16)",
     "output_type": "error",
     "traceback": [
      "\u001b[0;36m  Cell \u001b[0;32mIn[1], line 16\u001b[0;36m\u001b[0m\n\u001b[0;31m    SST = np.sum(data-overall_mean = np.mean(data)\u001b[0m\n\u001b[0m                 ^\u001b[0m\n\u001b[0;31mSyntaxError\u001b[0m\u001b[0;31m:\u001b[0m expression cannot contain assignment, perhaps you meant \"==\"?\n"
     ]
    }
   ],
   "source": [
    "import numpy as np\n",
    "from scipy import stats\n",
    "\n",
    "# Example data\n",
    "group1 = np.array([10,12,14,16,18])\n",
    "group2 = np.array([9,11,13,15,17])\n",
    "grop3 = np.array([8,10,12,14,16])\n",
    "\n",
    "# Combine data into one array\n",
    "data = np.concatenate([group1,group2,group3])\n",
    "\n",
    "# Calculate overall mean\n",
    "overall_mean = np.mean(data)\n",
    "\n",
    "# Calculate sum of square total(sst)\n",
    "SST = np.sum(data-overall_mean = np.mean(data)"
   ]
  },
  {
   "cell_type": "code",
   "execution_count": 2,
   "id": "e08c0a21-8379-4b11-a39c-b206a1724d41",
   "metadata": {},
   "outputs": [
    {
     "ename": "SyntaxError",
     "evalue": "closing parenthesis '}' does not match opening parenthesis '[' on line 8 (4241936904.py, line 9)",
     "output_type": "error",
     "traceback": [
      "\u001b[0;36m  Cell \u001b[0;32mIn[2], line 9\u001b[0;36m\u001b[0m\n\u001b[0;31m    'value':[3,4,5,6,7,8]}\u001b[0m\n\u001b[0m                         ^\u001b[0m\n\u001b[0;31mSyntaxError\u001b[0m\u001b[0;31m:\u001b[0m closing parenthesis '}' does not match opening parenthesis '[' on line 8\n"
     ]
    }
   ],
   "source": [
    "import pandas as pd\n",
    "import statsmodels.api as sm\n",
    "from statsmodel.formula.api import\n",
    "ols\n",
    "\n",
    "# Create a sample dataset\n",
    "data = {'A':[1,1,2,2,3,3],\n",
    "        'B':['x','y','x','y','x','y'\n",
    "             'value':[3,4,5,6,7,8]}\n",
    "             df = pd.DataFrame(data)\n",
    "\n",
    "# Print the ANOVA table\n",
    "print(sm.stats.anova_lm(model))\n",
    "            \n",
    "# Calculate the interaction effect\n",
    "             interfaction_effect = \n",
    "             model.params['C(a"
   ]
  },
  {
   "cell_type": "markdown",
   "id": "bd911edb-cf68-48a6-8d9e-007102d1df69",
   "metadata": {},
   "source": [
    "With an F-statictics of 5.23 and a p-value of 0.02 in one-way ANOVA,you can conclude that there is a statically signficant diffrence between the groups.\n",
    "1. Statiscal Signficance:The obtained p-value of 0.02 is less than the commonly used signficance level of 0.05.This indicates that there is strong evidence against the null hypothesis,suggesting that at least one of the group means is signficantly.\n",
    "2. F-statistic"
   ]
  },
  {
   "cell_type": "markdown",
   "id": "7424494c-f7fc-4037-b63a-b83a0ffaf4a8",
   "metadata": {},
   "source": [
    "Common post-host test used after ANOVA include Turkey honestly signficance diffrence(HSD) Bonerroni correction,Scheffe method and Dunnet test these are employed when specfiy other women differ from each other.\n",
    "1. Turkey's HSD\n",
    "2. Bonferroni correction\n",
    "3. Scheffe's method\n",
    "4. Dunnett's test"
   ]
  },
  {
   "cell_type": "code",
   "execution_count": null,
   "id": "a5e293ab-57e4-4585-9178-0127d36a922a",
   "metadata": {},
   "outputs": [],
   "source": []
  }
 ],
 "metadata": {
  "kernelspec": {
   "display_name": "Python 3 (ipykernel)",
   "language": "python",
   "name": "python3"
  },
  "language_info": {
   "codemirror_mode": {
    "name": "ipython",
    "version": 3
   },
   "file_extension": ".py",
   "mimetype": "text/x-python",
   "name": "python",
   "nbconvert_exporter": "python",
   "pygments_lexer": "ipython3",
   "version": "3.10.8"
  }
 },
 "nbformat": 4,
 "nbformat_minor": 5
}
